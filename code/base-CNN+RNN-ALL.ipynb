{
 "cells": [
  {
   "cell_type": "markdown",
   "metadata": {},
   "source": [
    "首先导入必要的python包\n",
    "\n",
    "注意：如果报错`缺失punkt`的话，把`nltk.download('punkt')`取消注释即可。\n",
    "\n",
    "可能需要预先安装的包：\n",
    "\n",
    "```bash\n",
    "pip install vocabulary\n",
    "pip install nltk\n",
    "pip install -U requests                     # 这里是因为前面安装vocabulary包会导致requests起一些冲突，建议再安装一次\n",
    "pip install rouge\n",
    "```"
   ]
  },
  {
   "cell_type": "code",
   "execution_count": 1,
   "metadata": {
    "tags": []
   },
   "outputs": [],
   "source": [
    "import nltk\n",
    "import os\n",
    "import torch\n",
    "import torch.utils.data as data\n",
    "from vocabulary.vocabulary import Vocabulary\n",
    "from PIL import Image\n",
    "import numpy as np\n",
    "from tqdm import tqdm\n",
    "import random\n",
    "import json\n",
    "from collections import defaultdict, Counter\n",
    "from PIL import Image\n",
    "from matplotlib import pyplot as plt\n",
    "import nltk\n",
    "# nltk.download('punkt')\n",
    "device = torch.device(\"cuda\" if torch.cuda.is_available() else \"cpu\")"
   ]
  },
  {
   "cell_type": "markdown",
   "metadata": {},
   "source": [
    "### 数据处理部分，分开处理训练集和测试集"
   ]
  },
  {
   "cell_type": "code",
   "execution_count": 2,
   "metadata": {
    "collapsed": false,
    "jupyter": {
     "outputs_hidden": false
    }
   },
   "outputs": [
    {
     "name": "stdout",
     "output_type": "stream",
     "text": [
      "Dataset already exists. Skipping processing.\n"
     ]
    }
   ],
   "source": [
    "import os\n",
    "import json\n",
    "import random\n",
    "from collections import defaultdict, Counter\n",
    "from PIL import Image\n",
    "from matplotlib import pyplot as plt\n",
    "\n",
    "def create_dataset(dataset='deepfashion',\n",
    "                   captions_per_image=1,\n",
    "                   min_word_count=1,\n",
    "                   max_len=80) -> str:\n",
    "    \"\"\"\n",
    "    params:\n",
    "        dataset: dataset path\n",
    "        captions_per_image: captions amount for each image\n",
    "        min_word_count: the minimum word count threshold\n",
    "        max_len: max length of caption\n",
    "    output:\n",
    "        vocab.json\n",
    "        train_data.json, val_data.json, test_data.json\n",
    "    \"\"\" \n",
    "    train_data_json_path = '../dataset/deepfashion-multimodal/train_captions.json'\n",
    "    test_data_json_path = '../dataset/deepfashion-multimodal/test_captions.json'\n",
    "    image_folder = '../dataset/deepfashion-multimodal/images/'\n",
    "    output_folder = '../output/' \n",
    "    \n",
    "    # add additional check to avoid wasting time on processing dataset.\n",
    "    if os.path.exists(output_folder):\n",
    "        files = os.listdir(output_folder)\n",
    "        if 'vocab.json' in files and 'train_data.json' in files and 'test_data.json' in files:\n",
    "            print('Dataset already exists. Skipping processing.')\n",
    "            return output_folder\n",
    "    else:\n",
    "        os.makedirs(output_folder)\n",
    "\n",
    "    with open(train_data_json_path, 'r') as j:\n",
    "        data = json.load(j)\n",
    "\n",
    "    image_paths = []\n",
    "    image_captions = []\n",
    "    vocab = Counter()\n",
    "    # push the captions into vocab\n",
    "    for k,v in data.items():\n",
    "        tokens = nltk.tokenize.word_tokenize(v.lower())\n",
    "        vocab.update(tokens)\n",
    "        path = os.path.join(image_folder,k)\n",
    "        image_paths.append(path)\n",
    "        if len(tokens) <= max_len:\n",
    "            image_captions.append(tokens)\n",
    "        elif len(tokens) > max_len:\n",
    "            tokens=tokens[0:max_len]\n",
    "            image_captions.append(tokens)\n",
    "        if len(tokens) == 0:\n",
    "            continue\n",
    "\n",
    "    # create vocab\n",
    "    words = [w for w in vocab.keys() if vocab[w] >= min_word_count]\n",
    "    vocab = {k: v + 1 for v, k in enumerate(words)}\n",
    "    vocab['<pad>'] = 0\n",
    "    vocab['<unk>'] = len(vocab)\n",
    "    vocab['<start>'] = len(vocab)\n",
    "    vocab['<end>'] = len(vocab)\n",
    "\n",
    "    # store vocab\n",
    "    with open(os.path.join(output_folder, 'vocab.json'), 'w') as fw:\n",
    "        json.dump(vocab, fw)\n",
    "\n",
    "    # clean up captions\n",
    "    enc_captions = []\n",
    "    for j, c in enumerate(image_captions):\n",
    "        # encode the captions according to vocab\n",
    "        enc_c = [vocab['<start>']] + [vocab.get(word, vocab['<unk>']) for word in c] + [vocab['<end>']]\n",
    "        enc_captions.append(enc_c)\n",
    "\n",
    "    assert len(image_paths) * captions_per_image == len(enc_captions)\n",
    "\n",
    "    for i, path in enumerate(image_paths):\n",
    "        # check if the image can be resolved\n",
    "        img = Image.open(path)\n",
    "\n",
    "    \n",
    "    data = {'IMAGES': image_paths,\n",
    "            'CAPTIONS': enc_captions}\n",
    "    with open(os.path.join(output_folder, 'train_data.json'), 'w') as fw:\n",
    "        json.dump(data, fw)\n",
    "\n",
    "    with open(test_data_json_path, 'r') as t:\n",
    "        test_data = json.load(t)\n",
    "\n",
    "    test_image_paths = []\n",
    "    test_image_captions = []\n",
    "\n",
    "    for k,v in test_data.items():\n",
    "        tokens=nltk.tokenize.word_tokenize(v.lower())\n",
    "        path = os.path.join(image_folder,k)\n",
    "        test_image_paths.append(path)\n",
    "        if len(tokens) <= max_len:\n",
    "            test_image_captions.append(tokens)\n",
    "        elif len(tokens) > max_len :\n",
    "            tokens=tokens[0:max_len]\n",
    "            test_image_captions.append(tokens)\n",
    "        if len(tokens) == 0:\n",
    "            continue\n",
    "\n",
    "    test_enc_captions = []\n",
    "    for j, c in enumerate(test_image_captions):\n",
    "        enc_c = [vocab['<start>']] + [vocab.get(word, vocab['<unk>']) for word in c] + [vocab['<end>']]\n",
    "        test_enc_captions.append(enc_c)\n",
    "\n",
    "\n",
    "    assert len(image_paths) * captions_per_image == len(enc_captions)\n",
    "\n",
    "    for i, path in enumerate(image_paths):\n",
    "        img = Image.open(path)\n",
    "\n",
    "    testdata = {'IMAGES': test_image_paths,\n",
    "            'CAPTIONS': test_enc_captions}\n",
    "    with open(os.path.join(output_folder, 'test_data.json'), 'w') as fw:\n",
    "        json.dump(testdata, fw)\n",
    "        \n",
    "    return output_folder\n",
    "output_folder = create_dataset()"
   ]
  },
  {
   "cell_type": "markdown",
   "metadata": {},
   "source": [
    "对上方的数据集初步处理结果进行简单的验证\n",
    "\n",
    "具体验证思路仿造案例：\n",
    "\n",
    "随机读取图像、查看图像，查看图像对应的caption"
   ]
  },
  {
   "cell_type": "code",
   "execution_count": 3,
   "metadata": {
    "collapsed": false,
    "jupyter": {
     "outputs_hidden": false
    }
   },
   "outputs": [
    {
     "name": "stdout",
     "output_type": "stream",
     "text": [
      "[107, 23, 31, 18, 32, 33, 74, 39, 48, 29, 75, 13, 10, 33, 57, 46, 14, 1, 39, 48, 18, 29, 8, 9, 10, 64, 15, 18, 19, 14, 1, 46, 47, 29, 8, 9, 10, 75, 13, 14, 1, 24, 18, 32, 33, 34, 35, 36, 37, 14, 1, 45, 18, 32, 33, 76, 14, 51, 18, 27, 53, 35, 36, 54, 14, 108]\n",
      "<start> this female is wearing a sleeveless tank top with floral patterns and a three-point pants . the tank top is with cotton fabric and its neckline is v-shape . the pants are with cotton fabric and floral patterns . the lady is wearing a ring on her finger . the person is wearing a hat . there is an accessory on her wrist . <end>\n"
     ]
    },
    {
     "data": {
      "image/png": "[encoded data removed]",
      "text/plain": [
       "<Figure size 640x480 with 1 Axes>"
      ]
     },
     "metadata": {},
     "output_type": "display_data"
    }
   ],
   "source": [
    "# read vocab and datas\n",
    "with open(os.path.join(output_folder, 'vocab.json'), 'r') as f:\n",
    "    vocab = json.load(f)\n",
    "vocab_idx2word = {idx:word for word,idx in vocab.items()}\n",
    "with open(os.path.join(output_folder, 'train_data.json'), 'r') as f:\n",
    "    data = json.load(f)\n",
    "with open(os.path.join(output_folder, 'test_data.json'), 'r') as k:\n",
    "    testdata = json.load(k)\n",
    "\n",
    "# show the 12th data\n",
    "# show image\n",
    "content_img = Image.open(data['IMAGES'][12])\n",
    "plt.imshow(content_img)\n",
    "\n",
    "# show token_ids and tokens\n",
    "print(data['CAPTIONS'][12])\n",
    "print(' '.join([vocab_idx2word[word_idx] for word_idx in data['CAPTIONS'][12]]))"
   ]
  },
  {
   "cell_type": "markdown",
   "metadata": {},
   "source": [
    "构建dataset类，便于后续dataloader的构建\n",
    "\n",
    "在此处，我们创建`ImageCaption` 数据集，`getitem`内部函数返回三个值：\n",
    "\n",
    "+ image: PIL.Image\n",
    "+ caption: str\n",
    "+ cap_len: int"
   ]
  },
  {
   "cell_type": "code",
   "execution_count": 4,
   "metadata": {
    "collapsed": false,
    "jupyter": {
     "outputs_hidden": false
    }
   },
   "outputs": [],
   "source": [
    "from argparse import Namespace\n",
    "import numpy as np\n",
    "import os\n",
    "import json\n",
    "from PIL import Image\n",
    "import torch\n",
    "import torch.nn as nn\n",
    "from torch.nn.utils.rnn import pack_padded_sequence\n",
    "from torch.utils.data import Dataset\n",
    "import torchvision\n",
    "import torchvision.transforms as transforms\n",
    "\n",
    "class ImageCaptionDataset(Dataset):\n",
    "    def __init__(self, \n",
    "                 dataset_path: str, \n",
    "                 vocab_path: str, \n",
    "                 split: str,    # the choice in {'train', 'test'}\n",
    "                 captions_per_image: int=1, \n",
    "                 max_len: int=80, \n",
    "                 transform=None):\n",
    "        self.split = split\n",
    "        assert self.split in {'train', 'test'}\n",
    "        self.cpi = captions_per_image\n",
    "        self.max_len = max_len\n",
    "\n",
    "        # load the json files\n",
    "        with open(dataset_path, 'r') as f:\n",
    "            self.data = json.load(f)\n",
    "        with open(vocab_path, 'r') as f:\n",
    "            self.vocab = json.load(f)\n",
    "\n",
    "        # process the images for further forward computing\n",
    "        self.transform = transform\n",
    "\n",
    "        # Total number of data points\n",
    "        self.dataset_size = len(self.data['CAPTIONS'])\n",
    "\n",
    "    def __getitem__(self, i):\n",
    "        # 第i个文本描述对应第(i // captions_per_image)张图片\n",
    "        img = Image.open(self.data['IMAGES'][i]).convert('RGB')\n",
    "        if self.transform is not None:\n",
    "            img = self.transform(img)\n",
    "\n",
    "        caplen = len(self.data['CAPTIONS'][i])\n",
    "        caption = torch.LongTensor(self.data['CAPTIONS'][i]+ [self.vocab['<pad>']] * (self.max_len + 2 - caplen))\n",
    "\n",
    "        return img, caption, caplen\n",
    "\n",
    "\n",
    "    def __len__(self):\n",
    "        return self.dataset_size"
   ]
  },
  {
   "cell_type": "markdown",
   "metadata": {
    "tags": []
   },
   "source": [
    "仿：定义`mktrainval`函数，返回train_dataloader和test_dataloader\n",
    "\n",
    "这一步需要使用上方的`ImageCaptionDataset`类"
   ]
  },
  {
   "cell_type": "code",
   "execution_count": 5,
   "metadata": {
    "collapsed": false,
    "jupyter": {
     "outputs_hidden": false
    }
   },
   "outputs": [],
   "source": [
    "def mktrainval(data_dir, vocab_path, batch_size, workers=4):\n",
    "    train_tx = transforms.Compose([\n",
    "        transforms.Resize(256),\n",
    "        transforms.RandomCrop(224),\n",
    "        transforms.ToTensor(),\n",
    "        transforms.Normalize([0.485, 0.456, 0.406], [0.229, 0.224, 0.225])\n",
    "    ])\n",
    "    val_tx = transforms.Compose([\n",
    "        transforms.Resize(256),\n",
    "        transforms.CenterCrop(224),\n",
    "        transforms.ToTensor(),\n",
    "        transforms.Normalize([0.485, 0.456, 0.406], [0.229, 0.224, 0.225])\n",
    "    ])\n",
    "\n",
    "    train_set = ImageCaptionDataset(os.path.join(data_dir, 'train_data.json'),\n",
    "                                 vocab_path, \n",
    "                                 split='train',  \n",
    "                                 transform=train_tx)\n",
    "    test_set = ImageCaptionDataset(os.path.join(data_dir, 'test_data.json'),\n",
    "                                 vocab_path, \n",
    "                                 split='test', \n",
    "                                 transform=val_tx)\n",
    "\n",
    "    train_loader = torch.utils.data.DataLoader(\n",
    "        train_set, batch_size=batch_size, shuffle=True, num_workers=workers, pin_memory=True)\n",
    "\n",
    "    test_loader = torch.utils.data.DataLoader(\n",
    "        test_set, batch_size=batch_size, shuffle=False, num_workers=workers, pin_memory=True, drop_last=False)\n",
    "\n",
    "    return train_loader, test_loader\n"
   ]
  },
  {
   "cell_type": "markdown",
   "metadata": {},
   "source": [
    "### CNN Encoder实现\n",
    "\n",
    "+ 使用`Resnet101`提取网格特征\n",
    "+ 而后，通过池化、展平的操作，转化为全连接层，从而得到全局的特征。"
   ]
  },
  {
   "cell_type": "code",
   "execution_count": 6,
   "metadata": {
    "collapsed": false,
    "jupyter": {
     "outputs_hidden": false
    }
   },
   "outputs": [],
   "source": [
    "import torchvision.models as models\n",
    "import torch.nn as nn\n",
    "\n",
    "class ImageEncoder(nn.Module):\n",
    "    def __init__(self, finetuned=True, output_dim=2048):\n",
    "        super(ImageEncoder, self).__init__()\n",
    "        \n",
    "        # first we adopt the pretrained resnet101 model\n",
    "        model = models.resnet101(pretrained=True)\n",
    "        self.feature_extractor = nn.Sequential(*(list(model.children())[:-2]))\n",
    "        \n",
    "        # globally average pool the feature maps\n",
    "        self.avg_pool = nn.AdaptiveAvgPool2d((1, 1))\n",
    "        # convert the features into a 1D vector (full connected layer)\n",
    "        self.fc = nn.Linear(2048, output_dim)\n",
    "\n",
    "        # set the params to be finetuned or not\n",
    "        for param in self.feature_extractor.parameters():\n",
    "            param.requires_grad = finetuned\n",
    "\n",
    "    def forward(self, images):\n",
    "        features = self.feature_extractor(images)       # (batch_size, 2048, H, W)\n",
    "        pooled = self.avg_pool(features)                # (batch_size, 2048, 1, 1)\n",
    "        flattened = pooled.view(pooled.size(0), -1)     # (batch_size, 2048)\n",
    "        out = self.fc(flattened)                        # (batch_size, output_dim)\n",
    "        return out"
   ]
  },
  {
   "cell_type": "markdown",
   "metadata": {},
   "source": [
    "### GRU Decoder实现\n",
    "定义GRU_Decoder类：这是一个自定义的PyTorch模型，用于生成图像标注。\n",
    "\n",
    "+ self.embed: 创建一个嵌入层，用于将词汇表中的单词索引转换为固定大小的词向量。\n",
    "+ self.init_state: 创建一个线性层，用于将图像编码转换为GRU的初始状态。\n",
    "+ self.rnn: 创建一个GRU层，用于处理词嵌入和图像编码的序列数据。\n",
    "+ self.dropout: 创建一个Dropout层，用于正则化。\n",
    "+ self.fc: 创建一个线性层，用于将GRU的输出转换为最终的词汇表预测。\n",
    "+ self.init_weights: 初始化嵌入层和线性层的权重和偏置。\n",
    "+ init_hidden_state方法：该方法用于初始化隐藏状态，将输入的图像编码和标注排序后的数据准备成模型所需的形状。"
   ]
  },
  {
   "cell_type": "code",
   "execution_count": 7,
   "metadata": {},
   "outputs": [],
   "source": [
    "import torch\n",
    "from torch import nn\n",
    "import numpy as np\n",
    "\n",
    "class GRU_Decoder(nn.Module):\n",
    "    def __init__(self, \n",
    "                 image_code_dim: int, \n",
    "                 vocab_size: int, \n",
    "                 word_dim: int, \n",
    "                 hidden_size: int, \n",
    "                 num_layers: int, \n",
    "                 dropout=0.5):\n",
    "        super(GRU_Decoder, self).__init__()\n",
    "        self.embed = nn.Embedding(vocab_size, word_dim) \n",
    "        self.init_state = nn.Linear(image_code_dim, num_layers*hidden_size)\n",
    "        self.rnn = nn.GRU(word_dim+image_code_dim, hidden_size, num_layers)\n",
    "        self.dropout = nn.Dropout(p=dropout)\n",
    "        self.fc = nn.Linear(hidden_size, vocab_size)\n",
    "\n",
    "        self.init_weights()\n",
    "\n",
    "    def init_weights(self):\n",
    "        self.embed.weight.data.uniform_(-0.1, 0.1)\n",
    "        self.fc.bias.data.fill_(0)\n",
    "        self.fc.weight.data.uniform_(-0.1, 0.1)\n",
    "\n",
    "    def init_hidden_state(self, image_code, captions, cap_lens):\n",
    "        batch_size, image_code_dim = image_code.size(0), image_code.size(1)\n",
    "\n",
    "        sorted_cap_lens, sorted_cap_indices = torch.sort(cap_lens, 0, True)\n",
    "        captions = captions[sorted_cap_indices]\n",
    "        image_code = image_code[sorted_cap_indices]\n",
    "\n",
    "        hidden_state = self.init_state(image_code)      #(batch_size, image_code_dim)\n",
    "        hidden_state = hidden_state.view(\n",
    "                            batch_size,\n",
    "                            self.rnn.num_layers,\n",
    "                            self.rnn.hidden_size).permute(1, 0, 2)  #(num_layers,batch_size,hidden_size)\n",
    "        return image_code, captions, sorted_cap_lens, sorted_cap_indices, hidden_state\n",
    "\n",
    "    def forward_step(self,image_code, curr_cap_embed, hidden_state):\n",
    "        gru_input = torch.cat((curr_cap_embed, image_code), dim=1).unsqueeze(0)\n",
    "        out, hidden_state = self.rnn(gru_input, hidden_state)\n",
    "        preds = self.fc(self.dropout(out.squeeze(0)))\n",
    "        return preds, hidden_state\n",
    "\n",
    "    def forward(self, image_code, captions, cap_lens):\n",
    "        image_code, captions, sorted_cap_lens, sorted_cap_indices, hidden_state \\\n",
    "            = self.init_hidden_state(image_code, captions, cap_lens)\n",
    "        batch_size = image_code.size(0)\n",
    "        lengths = sorted_cap_lens.cpu().numpy() - 1\n",
    "        predictions = torch.zeros(batch_size, lengths[0], self.fc.out_features).to(captions.device)\n",
    "        cap_embeds = self.embed(captions)\n",
    "        \n",
    "        for step in range(lengths[0]):\n",
    "            real_batch_size = np.where(lengths > step)[0].shape[0]\n",
    "            preds, hidden_state = self.forward_step(\n",
    "                            image_code[:real_batch_size],\n",
    "                            cap_embeds[:real_batch_size, step, :],\n",
    "                            hidden_state[:, :real_batch_size, :].contiguous())\n",
    "            predictions[:real_batch_size, step, :] = preds\n",
    "        return predictions, captions, lengths, sorted_cap_indices"
   ]
  },
  {
   "cell_type": "markdown",
   "metadata": {},
   "source": [
    "### 实现整体网络\n",
    "现在开始一个CNN + GRU整体的网络"
   ]
  },
  {
   "cell_type": "code",
   "execution_count": 8,
   "metadata": {},
   "outputs": [],
   "source": [
    "class CNNGRUNet(nn.Module):\n",
    "    def __init__(self, image_code_dim, vocab, word_dim, hidden_size, num_layers):\n",
    "        super(CNNGRUNet,self).__init__()\n",
    "        self.encoder = ImageEncoder()\n",
    "        self.decoder = GRU_Decoder(image_code_dim, len(vocab), word_dim, hidden_size, num_layers)\n",
    "        self.vocab = vocab\n",
    "        \n",
    "    def forward(self, images, captions, cap_lens):\n",
    "        image_features = self.encoder(images)\n",
    "        output = self.decoder(image_features, captions, cap_lens)\n",
    "        return output\n",
    "    \n",
    "    def generate(self, images, beam_k, max_len):\n",
    "        vocab_size = len(self.vocab)\n",
    "        image_codes = self.encoder(images)\n",
    "        texts = []\n",
    "        device = images.device\n",
    "        \n",
    "        # beamsearch for each image\n",
    "        for image_code in image_codes:\n",
    "            gen_sent = self._beam_search(image_code, beam_k, max_len, vocab_size)\n",
    "            texts.append(gen_sent)\n",
    "        return texts\n",
    "    \n",
    "    def _beam_search(self, image_code, beam_k, max_len, vocab_size):\n",
    "        # make `k` copies for a image\n",
    "        image_code = image_code.unsqueeze(0).repeat(beam_k,1)       #  (5，2048)\n",
    "        # generate k sentences\n",
    "        cur_sents = torch.full((beam_k, 1), self.vocab['<start>'], dtype=torch.long).to(device)\n",
    "        cur_sent_embed = self.decoder.embed(cur_sents)[:,0,:]\n",
    "        sent_lens = torch.LongTensor([1]*beam_k).to(device)\n",
    "\n",
    "        image_code, cur_sent_embed, _, _, hidden_state = \\\n",
    "            self.decoder.init_hidden_state(image_code, cur_sent_embed, sent_lens)\n",
    "\n",
    "        # store generated sentences\n",
    "        end_sentences = []\n",
    "        end_probs = []\n",
    "        probs = torch.zeros(beam_k, 1).to(device)\n",
    "        k = beam_k\n",
    "        while True:\n",
    "            preds, hidden_state = self.decoder.forward_step(image_code[:k], cur_sent_embed, hidden_state.contiguous())\n",
    "            preds = nn.functional.log_softmax(preds, dim=1)\n",
    "\n",
    "            probs = probs.repeat(1,preds.size(1)) + preds\n",
    "            if cur_sents.size(1) == 1:\n",
    "                values, indices = probs[0].topk(k, 0, True, True)\n",
    "            else:\n",
    "                # convert to 1D\n",
    "                values, indices = probs.view(-1).topk(k, 0, True, True)\n",
    "\n",
    "            sent_indices = torch.div(indices, vocab_size, rounding_mode='trunc')\n",
    "            word_indices = indices % vocab_size\n",
    "\n",
    "            cur_sents = torch.cat([cur_sents[sent_indices], word_indices.unsqueeze(1)], dim=1)\n",
    "\n",
    "            end_indices = [idx for idx, word in enumerate(word_indices) if word == self.vocab['<end>']]\n",
    "            if len(end_indices) > 0:\n",
    "                end_probs.extend(values[end_indices])\n",
    "                end_sentences.extend(cur_sents[end_indices].tolist())\n",
    "\n",
    "                k -= len(end_indices)\n",
    "                if k == 0:\n",
    "                    break\n",
    "\n",
    "            cur_indices = [idx for idx, word in enumerate(word_indices)\n",
    "                            if word != self.vocab['<end>']]\n",
    "            if len(cur_indices) > 0:\n",
    "                cur_sent_indices = sent_indices[cur_indices]\n",
    "                cur_word_indices = word_indices[cur_indices]\n",
    "\n",
    "                cur_sents = cur_sents[cur_indices]\n",
    "                probs = values[cur_indices].view(-1,1)\n",
    "                hidden_state = hidden_state[:,cur_sent_indices,:]\n",
    "                cur_sent_embed = self.decoder.embed(\n",
    "                    cur_word_indices.view(-1,1))[:,0,:]\n",
    "\n",
    "            if cur_sents.size(1) >= max_len:\n",
    "                break\n",
    "        if len(end_sentences) == 0:\n",
    "            generate_sentence = cur_sents[0].tolist()\n",
    "        else:\n",
    "            generate_sentence = end_sentences[end_probs.index(max(end_probs))]\n",
    "            \n",
    "        return generate_sentence\n",
    "        \n",
    "        "
   ]
  },
  {
   "cell_type": "markdown",
   "metadata": {},
   "source": [
    "针对该任务，我们需要自己手写一个交叉熵\n",
    "\n",
    "这个交叉熵损失函数基于torch.module制作，主要是将输出的内容pack起来，然后再计算loss"
   ]
  },
  {
   "cell_type": "code",
   "execution_count": 9,
   "metadata": {
    "collapsed": false,
    "jupyter": {
     "outputs_hidden": false
    }
   },
   "outputs": [],
   "source": [
    "class PackedCELoss(nn.Module):\n",
    "    def __init__(self):\n",
    "        super(PackedCELoss, self).__init__()\n",
    "        self.loss_fn = nn.CrossEntropyLoss()\n",
    "\n",
    "    def forward(self, predictions, targets, lengths):\n",
    "        predictions = pack_padded_sequence(predictions, lengths, batch_first=True)[0]\n",
    "        targets = pack_padded_sequence(targets, lengths, batch_first=True)[0]\n",
    "        return self.loss_fn(predictions, targets)\n"
   ]
  },
  {
   "cell_type": "code",
   "execution_count": 10,
   "metadata": {
    "collapsed": false,
    "jupyter": {
     "outputs_hidden": false
    }
   },
   "outputs": [],
   "source": [
    "def get_optimizer(model, config):\n",
    "    return torch.optim.Adam([{\"params\": filter(lambda p: p.requires_grad, model.encoder.parameters()),\n",
    "                              \"lr\": config.encoder_learning_rate},\n",
    "                             {\"params\": filter(lambda p: p.requires_grad, model.decoder.parameters()),\n",
    "                              \"lr\": config.decoder_learning_rate}])\n",
    "\n",
    "def adjust_learning_rate(optimizer, epoch, config):\n",
    "    \"\"\"\n",
    "        adjust the learning rate manually\n",
    "    \"\"\"\n",
    "    optimizer.param_groups[0]['lr'] = config.encoder_learning_rate * (0.1 ** (epoch // config.lr_update))\n",
    "    optimizer.param_groups[1]['lr'] = config.decoder_learning_rate * (0.1 ** (epoch // config.lr_update))"
   ]
  },
  {
   "cell_type": "markdown",
   "metadata": {},
   "source": [
    "实现BELU评估 （BELU4）"
   ]
  },
  {
   "cell_type": "code",
   "execution_count": 11,
   "metadata": {
    "collapsed": false,
    "jupyter": {
     "outputs_hidden": false
    }
   },
   "outputs": [],
   "source": [
    "from nltk.translate.bleu_score import corpus_bleu\n",
    "\n",
    "def filter_useless_words(sent, filterd_words):\n",
    "    return [w for w in sent if w not in filterd_words]\n",
    "\n",
    "def evaluate_BELU4(data_loader, model, config):\n",
    "    model.eval()\n",
    "    \n",
    "    candidates, refences = [], []\n",
    "    \n",
    "    filterd_words = set({model.vocab['<start>'], model.vocab['<end>'], model.vocab['<pad>']})\n",
    "    cpi = config.captions_per_image\n",
    "    device = next(model.parameters()).device\n",
    "    for i, (imgs, caps, caplens) in enumerate(data_loader):\n",
    "        with torch.no_grad():\n",
    "            texts = model.generate(imgs.to(device), config.beam_k, config.max_len+2)\n",
    "\n",
    "            candidates.extend([filter_useless_words(text, filterd_words) for text in texts])\n",
    "\n",
    "            refences.extend([filter_useless_words(cap, filterd_words) for cap in caps.tolist()])\n",
    "   \n",
    "    multiple_refs = []\n",
    "    for idx in range(len(refences)):\n",
    "        multiple_refs.append(refences[(idx//cpi)*cpi : (idx//cpi)*cpi+cpi])\n",
    "\n",
    "    bleu4 = corpus_bleu(multiple_refs, candidates, weights=(0.25,0.25,0.25,0.25))\n",
    "    model.train()\n",
    "    return bleu4"
   ]
  },
  {
   "cell_type": "markdown",
   "metadata": {},
   "source": [
    "实现METEOR评估"
   ]
  },
  {
   "cell_type": "code",
   "execution_count": 1,
   "metadata": {},
   "outputs": [],
   "source": [
    "import json\n",
    "import torch\n",
    "from nltk.translate.meteor_score import single_meteor_score\n",
    "\n",
    "def evaluate_meteor(data_loader, model, config):\n",
    "    model.eval()\n",
    "    cands = []\n",
    "    refs = []\n",
    "    filterd_words = set({'<start>', '<end>', '<pad>'})\n",
    "    device = next(model.parameters()).device\n",
    "\n",
    "    with open(os.path.join(output_folder, 'vocab.json'), 'r') as f:\n",
    "        vocab = json.load(f)\n",
    "    vocab_idx2word = {idx: word for word, idx in vocab.items()}\n",
    "\n",
    "    for i, (imgs, caps, caplens) in enumerate(data_loader):\n",
    "        with torch.no_grad():\n",
    "            texts = model.generate(imgs.to(device), config.beam_k, config.max_len+2)\n",
    "            # 解码生成的文本\n",
    "            decoded_texts = [' '.join([vocab_idx2word[word_idx] for word_idx in text]) for text in texts]\n",
    "            # 过滤不必要的词\n",
    "            filtered_texts = [' '.join(filter_useless_words(text.split(), filterd_words)) for text in decoded_texts]\n",
    "            cands.extend(filtered_texts)\n",
    "            \n",
    "            # 解码并过滤参考文本\n",
    "            for cap in caps.tolist():\n",
    "                decoded_cap = ' '.join([vocab_idx2word[word_idx] for word_idx in cap if word_idx in vocab_idx2word])\n",
    "                filtered_cap = ' '.join(filter_useless_words(decoded_cap.split(), filterd_words))\n",
    "                refs.append(filtered_cap)\n",
    "\n",
    "    # 计算METEOR\n",
    "    meteor_score = 0\n",
    "    for cand, ref in zip(cands, refs):\n",
    "        meteor_score += single_meteor_score(ref.split(), cand.split())\n",
    "\n",
    "    meteor_score /= len(cands)\n",
    "    model.train()\n",
    "    return meteor_score"
   ]
  },
  {
   "cell_type": "markdown",
   "metadata": {},
   "source": [
    "实现ROUGE-L评估"
   ]
  },
  {
   "cell_type": "code",
   "execution_count": 2,
   "metadata": {},
   "outputs": [],
   "source": [
    "from rouge import Rouge\n",
    "\n",
    "def evaluate_Rouge_L(data_loader, model, config):\n",
    "    model.eval()\n",
    "    cands = []\n",
    "    refs = []\n",
    "    decoded_caps = []\n",
    "    filterd_words = set({'<start>', '<end>', '<pad>'})\n",
    "    device = next(model.parameters()).device\n",
    "\n",
    "    with open(os.path.join(output_folder, 'vocab.json'), 'r') as f:\n",
    "        vocab = json.load(f)\n",
    "    vocab_idx2word = {idx: word for word, idx in vocab.items()}\n",
    "\n",
    "    for i, (imgs, caps, caplens) in enumerate(data_loader):\n",
    "        with torch.no_grad():\n",
    "            texts = model.generate(imgs.to(device), config.beam_k, config.max_len+2)\n",
    "            decoded_texts = [' '.join([vocab_idx2word[word_idx] for word_idx in text]) for text in texts]\n",
    "            filtered_texts = [' '.join(filter_useless_words(text.split(), filterd_words)) for text in decoded_texts]\n",
    "            cands.extend(filtered_texts)\n",
    "            \n",
    "            for cap in caps.tolist():\n",
    "                decoded_cap = ' '.join([vocab_idx2word[word_idx] for word_idx in cap if word_idx in vocab_idx2word])\n",
    "                filtered_cap = ' '.join(filter_useless_words(decoded_cap.split(), filterd_words))\n",
    "                refs.append(filtered_cap)\n",
    "                \n",
    "    rouge_evaluator = Rouge(metrics=['rouge-l'])\n",
    "\n",
    "    scores = rouge_evaluator.get_scores(cands, refs, avg=True) \n",
    "    rouge_l_score = scores['rouge-l']['f']  \n",
    "\n",
    "    model.train()\n",
    "    return rouge_l_score"
   ]
  },
  {
   "cell_type": "markdown",
   "metadata": {},
   "source": [
    "组织训练逻辑，并且开始训练"
   ]
  },
  {
   "cell_type": "code",
   "execution_count": 12,
   "metadata": {
    "collapsed": false,
    "jupyter": {
     "outputs_hidden": false
    },
    "pycharm": {
     "is_executing": true
    }
   },
   "outputs": [
    {
     "name": "stdout",
     "output_type": "stream",
     "text": [
      "cuda\n"
     ]
    },
    {
     "name": "stderr",
     "output_type": "stream",
     "text": [
      "/root/miniconda3/lib/python3.8/site-packages/torchvision/models/_utils.py:208: UserWarning: The parameter 'pretrained' is deprecated since 0.13 and may be removed in the future, please use 'weights' instead.\n",
      "  warnings.warn(\n",
      "/root/miniconda3/lib/python3.8/site-packages/torchvision/models/_utils.py:223: UserWarning: Arguments other than a weight enum or `None` for 'weights' are deprecated since 0.13 and may be removed in the future. The current behavior is equivalent to passing `weights=ResNet101_Weights.IMAGENET1K_V1`. You can also use `weights=ResNet101_Weights.DEFAULT` to get the most up-to-date weights.\n",
      "  warnings.warn(msg)\n"
     ]
    },
    {
     "name": "stdout",
     "output_type": "stream",
     "text": [
      "start training\n",
      "Training on epoch  0\n"
     ]
    },
    {
     "name": "stderr",
     "output_type": "stream",
     "text": [
      "Epoch 1/3:  47%|████▋     | 150/318 [00:45<00:54,  3.08batch/s, loss=0.696]"
     ]
    },
    {
     "name": "stdout",
     "output_type": "stream",
     "text": [
      "Validating on test set\n",
      "Validation@epoch, 0, step, 150, BLEU-4=0.32\n",
      "\n"
     ]
    },
    {
     "name": "stderr",
     "output_type": "stream",
     "text": [
      "Epoch 1/3:  94%|█████████▍| 300/318 [03:55<00:03,  4.65batch/s, loss=0.525]  "
     ]
    },
    {
     "name": "stdout",
     "output_type": "stream",
     "text": [
      "Validating on test set\n",
      "Validation@epoch, 0, step, 300, BLEU-4=0.30\n",
      "\n"
     ]
    },
    {
     "name": "stderr",
     "output_type": "stream",
     "text": [
      "Epoch 1/3: 100%|██████████| 318/318 [06:11<00:00,  1.17s/batch, loss=0.535]\n"
     ]
    },
    {
     "name": "stdout",
     "output_type": "stream",
     "text": [
      "Training on epoch  1\n"
     ]
    },
    {
     "name": "stderr",
     "output_type": "stream",
     "text": [
      "Epoch 2/3:  47%|████▋     | 150/318 [00:44<00:55,  3.03batch/s, loss=0.456]"
     ]
    },
    {
     "name": "stdout",
     "output_type": "stream",
     "text": [
      "Validating on test set\n",
      "Validation@epoch, 1, step, 150, BLEU-4=0.33\n",
      "\n"
     ]
    },
    {
     "name": "stderr",
     "output_type": "stream",
     "text": [
      "Epoch 2/3:  94%|█████████▍| 300/318 [05:56<00:04,  4.32batch/s, loss=0.478]  "
     ]
    },
    {
     "name": "stdout",
     "output_type": "stream",
     "text": [
      "Validating on test set\n",
      "Validation@epoch, 1, step, 300, BLEU-4=0.34\n",
      "\n"
     ]
    },
    {
     "name": "stderr",
     "output_type": "stream",
     "text": [
      "Epoch 2/3: 100%|██████████| 318/318 [13:25<00:00,  2.53s/batch, loss=0.475] \n"
     ]
    },
    {
     "name": "stdout",
     "output_type": "stream",
     "text": [
      "Training on epoch  2\n"
     ]
    },
    {
     "name": "stderr",
     "output_type": "stream",
     "text": [
      "Epoch 3/3:  47%|████▋     | 150/318 [00:35<00:38,  4.37batch/s, loss=0.43] "
     ]
    },
    {
     "name": "stdout",
     "output_type": "stream",
     "text": [
      "Validating on test set\n",
      "Validation@epoch, 2, step, 150, BLEU-4=0.36\n",
      "\n"
     ]
    },
    {
     "name": "stderr",
     "output_type": "stream",
     "text": [
      "Epoch 3/3:  94%|█████████▍| 300/318 [08:58<00:05,  3.04batch/s, loss=0.446]   "
     ]
    },
    {
     "name": "stdout",
     "output_type": "stream",
     "text": [
      "Validating on test set\n",
      "Validation@epoch, 2, step, 300, BLEU-4=0.35\n",
      "\n"
     ]
    },
    {
     "name": "stderr",
     "output_type": "stream",
     "text": [
      "Epoch 3/3: 100%|██████████| 318/318 [16:29<00:00,  3.11s/batch, loss=0.421] \n"
     ]
    },
    {
     "name": "stdout",
     "output_type": "stream",
     "text": [
      "Evaluate on the test set with the model that has the best performance on the validation set\n",
      "Epoch: 1, BLEU-4=0.36\n"
     ]
    }
   ],
   "source": [
    "from tqdm import tqdm\n",
    "\n",
    "# set up the basic config for training\n",
    "config = Namespace(\n",
    "    max_len = 80,\n",
    "    captions_per_image = 1,\n",
    "    batch_size = 32,\n",
    "    image_code_dim = 2048,\n",
    "    word_dim = 512,\n",
    "    hidden_size = 512,\n",
    "    num_layers = 1,\n",
    "    encoder_learning_rate = 0.0001,\n",
    "    decoder_learning_rate = 0.0005,\n",
    "    num_epochs = 3,\n",
    "    grad_clip = 5.0,\n",
    "    alpha_weight = 1.0,\n",
    "    evaluate_step = 150, \n",
    "    checkpoint = None, \n",
    "    beam_k = 5\n",
    ")\n",
    "\n",
    "\n",
    "print(device)\n",
    "\n",
    "data_dir = output_folder\n",
    "vocab_path = os.path.join(data_dir, 'vocab.json')\n",
    "train_loader, test_loader = mktrainval(data_dir, vocab_path, config.batch_size)\n",
    "\n",
    "\n",
    "with open(vocab_path, 'r') as f:\n",
    "    vocab = json.load(f)\n",
    "\n",
    "\n",
    "start_epoch = 0\n",
    "checkpoint = config.checkpoint\n",
    "if checkpoint is None:\n",
    "    model = CNNGRUNet(config.image_code_dim, vocab, config.word_dim, config.hidden_size, config.num_layers)\n",
    "\n",
    "else:\n",
    "    checkpoint = torch.load(checkpoint)\n",
    "    start_epoch = checkpoint['epoch'] + 1\n",
    "    model = checkpoint['model']\n",
    "\n",
    "optimizer = get_optimizer(model, config)\n",
    "\n",
    "model.to(device)\n",
    "model.train()\n",
    "\n",
    "\n",
    "loss_fn = PackedCELoss().to(device)\n",
    "\n",
    "best_res = 0\n",
    "print(\"start training\")\n",
    "\n",
    "ckpt_path = os.path.join(output_folder, 'model_ckpt/cnngru')\n",
    "\n",
    "if not os.path.exists(ckpt_path):\n",
    "    os.makedirs(ckpt_path)\n",
    "\n",
    "for epoch in range(start_epoch, config.num_epochs):\n",
    "    print(\"Training on epoch \", epoch)\n",
    "    with tqdm(total=len(train_loader), desc=f'Epoch {epoch + 1}/{config.num_epochs}', unit='batch') as pbar:\n",
    "        for i, (imgs, caps, caplens) in enumerate(train_loader):\n",
    "            optimizer.zero_grad()\n",
    "            \n",
    "            imgs = imgs.to(device)\n",
    "            caps = caps.to(device)\n",
    "            caplens = caplens.to(device)\n",
    "            \n",
    "            predictions, sorted_captions, lengths, sorted_cap_indices = model(imgs, caps, caplens)\n",
    "            loss = loss_fn(predictions, sorted_captions[:, 1:], lengths)\n",
    "\n",
    "            loss.backward()\n",
    "            if config.grad_clip > 0:\n",
    "                nn.utils.clip_grad_norm_(model.parameters(), config.grad_clip)\n",
    "\n",
    "            optimizer.step()\n",
    "            \n",
    "            pbar.update(1)\n",
    "            pbar.set_postfix(loss=loss.item())\n",
    "\n",
    "            state = {\n",
    "                    'epoch': epoch,\n",
    "                    'step': i,\n",
    "                    'model': model,\n",
    "                    'optimizer': optimizer\n",
    "                    }\n",
    "\n",
    "            if (i+1) % config.evaluate_step == 0:        \n",
    "                print(\"Validating on test set\")\n",
    "                bleu_score = evaluate_BELU4(test_loader, model, config)\n",
    "                if best_res < bleu_score:\n",
    "                    best_res = bleu_score\n",
    "                    torch.save(model.state_dict(), os.path.join(ckpt_path, 'best_CRmodel.pth'))\n",
    "                torch.save(model.state_dict(), os.path.join(ckpt_path, 'current_CRmodel.pth'))\n",
    "                print('Validation@epoch, %d, step, %d, BLEU-4=%.2f\\n' %\n",
    "                    (epoch, i+1, bleu_score))\n",
    "\n",
    "        \n",
    "model.load_state_dict(torch.load(os.path.join(ckpt_path, 'best_CRmodel.pth')))\n",
    "model.eval()\n",
    "bleu_score = evaluate_BELU4(test_loader, model, config)\n",
    "\n",
    "print(\"Evaluate on the test set with the model that has the best performance on the validation set\")\n",
    "print('Epoch: 1, BLEU-4=%.2f' % bleu_score)"
   ]
  },
  {
   "cell_type": "markdown",
   "metadata": {},
   "source": [
    "### 结果验证可视化，选取了测试集的第一张照片作为输入，用网络的beamsearch函数寻找概率最高的句子，并用构建的词表vocab解码"
   ]
  },
  {
   "cell_type": "code",
   "execution_count": 5,
   "metadata": {
    "collapsed": false,
    "jupyter": {
     "outputs_hidden": false
    },
    "tags": []
   },
   "outputs": [
    {
     "ename": "NameError",
     "evalue": "name 'CNNGRUNet' is not defined",
     "output_type": "error",
     "traceback": [
      "\u001b[0;31m---------------------------------------------------------------------------\u001b[0m",
      "\u001b[0;31mNameError\u001b[0m                                 Traceback (most recent call last)",
      "\u001b[1;32m/d_workspace/Python/NNDL2/code/CNN+RNN-ALL.ipynb 单元格 29\u001b[0m line \u001b[0;36m2\n\u001b[1;32m      <a href='vscode-notebook-cell://attached-container%2B7b22636f6e7461696e65724e616d65223a222f646576656c6f70227d/d_workspace/Python/NNDL2/code/CNN%2BRNN-ALL.ipynb#X32sdnNjb2RlLXJlbW90ZQ%3D%3D?line=0'>1</a>\u001b[0m \u001b[39mimport\u001b[39;00m \u001b[39mtorchvision\u001b[39;00m\u001b[39m.\u001b[39;00m\u001b[39mtransforms\u001b[39;00m \u001b[39mas\u001b[39;00m \u001b[39mtransforms\u001b[39;00m\n\u001b[1;32m      <a href='vscode-notebook-cell://attached-container%2B7b22636f6e7461696e65724e616d65223a222f646576656c6f70227d/d_workspace/Python/NNDL2/code/CNN%2BRNN-ALL.ipynb#X32sdnNjb2RlLXJlbW90ZQ%3D%3D?line=2'>3</a>\u001b[0m config \u001b[39m=\u001b[39m Namespace(\n\u001b[1;32m      <a href='vscode-notebook-cell://attached-container%2B7b22636f6e7461696e65724e616d65223a222f646576656c6f70227d/d_workspace/Python/NNDL2/code/CNN%2BRNN-ALL.ipynb#X32sdnNjb2RlLXJlbW90ZQ%3D%3D?line=3'>4</a>\u001b[0m     max_len \u001b[39m=\u001b[39m \u001b[39m80\u001b[39m,\n\u001b[1;32m      <a href='vscode-notebook-cell://attached-container%2B7b22636f6e7461696e65724e616d65223a222f646576656c6f70227d/d_workspace/Python/NNDL2/code/CNN%2BRNN-ALL.ipynb#X32sdnNjb2RlLXJlbW90ZQ%3D%3D?line=4'>5</a>\u001b[0m     captions_per_image \u001b[39m=\u001b[39m \u001b[39m1\u001b[39m,\n\u001b[0;32m   (...)\u001b[0m\n\u001b[1;32m     <a href='vscode-notebook-cell://attached-container%2B7b22636f6e7461696e65724e616d65223a222f646576656c6f70227d/d_workspace/Python/NNDL2/code/CNN%2BRNN-ALL.ipynb#X32sdnNjb2RlLXJlbW90ZQ%3D%3D?line=17'>18</a>\u001b[0m     beam_k \u001b[39m=\u001b[39m \u001b[39m5\u001b[39m\n\u001b[1;32m     <a href='vscode-notebook-cell://attached-container%2B7b22636f6e7461696e65724e616d65223a222f646576656c6f70227d/d_workspace/Python/NNDL2/code/CNN%2BRNN-ALL.ipynb#X32sdnNjb2RlLXJlbW90ZQ%3D%3D?line=18'>19</a>\u001b[0m )\n\u001b[0;32m---> <a href='vscode-notebook-cell://attached-container%2B7b22636f6e7461696e65724e616d65223a222f646576656c6f70227d/d_workspace/Python/NNDL2/code/CNN%2BRNN-ALL.ipynb#X32sdnNjb2RlLXJlbW90ZQ%3D%3D?line=20'>21</a>\u001b[0m model \u001b[39m=\u001b[39m CNNGRUNet(config\u001b[39m.\u001b[39mimage_code_dim, vocab, config\u001b[39m.\u001b[39mword_dim,config\u001b[39m.\u001b[39mhidden_size, config\u001b[39m.\u001b[39mnum_layers)\n\u001b[1;32m     <a href='vscode-notebook-cell://attached-container%2B7b22636f6e7461696e65724e616d65223a222f646576656c6f70227d/d_workspace/Python/NNDL2/code/CNN%2BRNN-ALL.ipynb#X32sdnNjb2RlLXJlbW90ZQ%3D%3D?line=21'>22</a>\u001b[0m model\u001b[39m.\u001b[39mload_state_dict(torch\u001b[39m.\u001b[39mload(os\u001b[39m.\u001b[39mpath\u001b[39m.\u001b[39mjoin(ckpt_path, \u001b[39m'\u001b[39m\u001b[39mbest_CRmodel.pth\u001b[39m\u001b[39m'\u001b[39m)))\n\u001b[1;32m     <a href='vscode-notebook-cell://attached-container%2B7b22636f6e7461696e65724e616d65223a222f646576656c6f70227d/d_workspace/Python/NNDL2/code/CNN%2BRNN-ALL.ipynb#X32sdnNjb2RlLXJlbW90ZQ%3D%3D?line=22'>23</a>\u001b[0m model \u001b[39m=\u001b[39m model\u001b[39m.\u001b[39mto(device)\n",
      "\u001b[0;31mNameError\u001b[0m: name 'CNNGRUNet' is not defined"
     ]
    }
   ],
   "source": [
    "import torchvision.transforms as transforms\n",
    "\n",
    "config = Namespace(\n",
    "    max_len = 80,\n",
    "    captions_per_image = 1,\n",
    "    batch_size = 32,\n",
    "    image_code_dim = 2048,\n",
    "    word_dim = 512,\n",
    "    hidden_size = 512,\n",
    "    num_layers = 1,\n",
    "    encoder_learning_rate = 0.0001,\n",
    "    decoder_learning_rate = 0.0005,\n",
    "    num_epochs = 2,\n",
    "    grad_clip = 5.0,\n",
    "    alpha_weight = 1.0,\n",
    "    evaluate_step = 300, \n",
    "    checkpoint = None, \n",
    "    beam_k = 5\n",
    ")\n",
    "\n",
    "model = CNNGRUNet(config.image_code_dim, vocab, config.word_dim,config.hidden_size, config.num_layers)\n",
    "model.load_state_dict(torch.load(os.path.join(ckpt_path, 'best_CRmodel.pth')))\n",
    "model = model.to(device)\n",
    "model.eval()\n",
    "\n",
    "with open(os.path.join(output_folder, 'vocab.json'), 'r') as f:\n",
    "    vocab = json.load(f)\n",
    "vocab_idx2word = {idx:word for word,idx in vocab.items()}\n",
    "\n",
    "with open(os.path.join(output_folder, 'test_data.json'), 'r') as t:\n",
    "    test = json.load(t)\n",
    "    \n",
    "img = Image.open(test['IMAGES'][0]).convert('RGB')  \n",
    "plt.imshow(img) \n",
    "transform = transforms.Compose([transforms.ToTensor()])\n",
    "img = transform(img).unsqueeze(0)\n",
    "\n",
    "img = img.to(device)\n",
    "\n",
    "generated_text=model.generate(img, 5, 50)\n",
    "print(\"generated text is\", generated_text)\n",
    "for text in generated_text:\n",
    "    print(\"decode text is\",' '.join([vocab_idx2word[word_idx] for word_idx in text]))\n",
    "    \n",
    "meteor_score = evaluate_meteor(test_loader, model, config)\n",
    "rouge_l_score = evaluate_Rouge_L(test_loader, model, config)\n",
    "\n",
    "print('METEOR=%.2f' % meteor_score)\n",
    "print('ROUGE-L=%.2f' % rouge_l_score)\n"
   ]
  }
 ],
 "metadata": {
  "kernelspec": {
   "display_name": "Python 3 (ipykernel)",
   "language": "python",
   "name": "python3"
  },
  "language_info": {
   "codemirror_mode": {
    "name": "ipython",
    "version": 3
   },
   "file_extension": ".py",
   "mimetype": "text/x-python",
   "name": "python",
   "nbconvert_exporter": "python",
   "pygments_lexer": "ipython3",
   "version": "3.11.5"
  }
 },
 "nbformat": 4,
 "nbformat_minor": 4
}
